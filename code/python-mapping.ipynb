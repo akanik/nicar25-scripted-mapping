{
 "cells": [
  {
   "cell_type": "code",
   "execution_count": 1,
   "metadata": {},
   "outputs": [],
   "source": [
    "import pandas as pd\n",
    "import geopandas as gpd\n",
    "import plotly.express as px\n",
    "import os\n",
    "\n",
    "#show me all the columns\n",
    "pd.set_option('display.max_columns', None)"
   ]
  },
  {
   "cell_type": "markdown",
   "metadata": {},
   "source": [
    "## Importing, inspecting and visualizing geo data\n",
    "\n",
    "Helpful Minneapolis codes:\n",
    "- Minnesota is state fips 27\n",
    "- Minneapolis is in Hennepin County, which is county fips 27053.\n",
    "\n",
    "Where to download/find these GIS files for your state!\n",
    "- **Schools:** [The NCES EDGE open data portal](https://data-nces.opendata.arcgis.com/) contains all sorts of helpful data, including school locations.\n",
    "- **Neighborhoods:** check your city GIS site\n",
    "- **Toxic Release Inventory:** Multiple years and states [available here](https://www.epa.gov/toxics-release-inventory-tri-program/tri-basic-data-files-calendar-years-1987-present)\n",
    "- **Census Tigerline URLs:** [pick your vintage here](https://www.census.gov/geographies/mapping-files/time-series/geo/tiger-line-file.html), then click FTP Archive and navigate to the shapefile you need."
   ]
  },
  {
   "cell_type": "code",
   "execution_count": 2,
   "metadata": {},
   "outputs": [],
   "source": [
    "#establish your basepath so you don't need to keep typing it\n",
    "gis_base = '../GIS'\n",
    "\n",
    "#importing shapefiles and geojson\n",
    "schools = gpd.read_file(f'{gis_base}/nces-mn-schools.geojson')\n",
    "\n",
    "#importing from zip\n",
    "hoods = gpd.read_file(f'{gis_base}/Minneapolis_Neighborhoods_4501150611105070206.zip')\n",
    "\n",
    "#importing from url\n",
    "tracts = gpd.read_file('https://www2.census.gov/geo/tiger/TIGER2024/TRACT/tl_2024_27_tract.zip')\n",
    "\n",
    "#importing points from csv\n",
    "tri = pd.read_csv(f'{gis_base}/epa-tri-2023-mn.csv')\n",
    "tri = gpd.GeoDataFrame(tri, geometry=gpd.points_from_xy(tri['13. LONGITUDE'], tri['12. LATITUDE']))"
   ]
  },
  {
   "cell_type": "code",
   "execution_count": 3,
   "metadata": {},
   "outputs": [
    {
     "name": "stdout",
     "output_type": "stream",
     "text": [
      "School count: 2775\n",
      "NCESSCH         object\n",
      "LEAID           object\n",
      "NAME            object\n",
      "OPSTFIPS        object\n",
      "STREET          object\n",
      "CITY            object\n",
      "STATE           object\n",
      "ZIP             object\n",
      "STFIP           object\n",
      "CNTY            object\n",
      "NMCNTY          object\n",
      "LOCALE          object\n",
      "LAT            float64\n",
      "LON            float64\n",
      "CBSA            object\n",
      "NMCBSA          object\n",
      "CBSATYPE        object\n",
      "CSA             object\n",
      "NMCSA           object\n",
      "CD              object\n",
      "SLDL            object\n",
      "SLDU            object\n",
      "SCHOOLYEAR      object\n",
      "geometry      geometry\n",
      "dtype: object\n"
     ]
    },
    {
     "data": {
      "text/html": [
       "<div>\n",
       "<style scoped>\n",
       "    .dataframe tbody tr th:only-of-type {\n",
       "        vertical-align: middle;\n",
       "    }\n",
       "\n",
       "    .dataframe tbody tr th {\n",
       "        vertical-align: top;\n",
       "    }\n",
       "\n",
       "    .dataframe thead th {\n",
       "        text-align: right;\n",
       "    }\n",
       "</style>\n",
       "<table border=\"1\" class=\"dataframe\">\n",
       "  <thead>\n",
       "    <tr style=\"text-align: right;\">\n",
       "      <th></th>\n",
       "      <th>NCESSCH</th>\n",
       "      <th>LEAID</th>\n",
       "      <th>NAME</th>\n",
       "      <th>OPSTFIPS</th>\n",
       "      <th>STREET</th>\n",
       "      <th>CITY</th>\n",
       "      <th>STATE</th>\n",
       "      <th>ZIP</th>\n",
       "      <th>STFIP</th>\n",
       "      <th>CNTY</th>\n",
       "      <th>NMCNTY</th>\n",
       "      <th>LOCALE</th>\n",
       "      <th>LAT</th>\n",
       "      <th>LON</th>\n",
       "      <th>CBSA</th>\n",
       "      <th>NMCBSA</th>\n",
       "      <th>CBSATYPE</th>\n",
       "      <th>CSA</th>\n",
       "      <th>NMCSA</th>\n",
       "      <th>CD</th>\n",
       "      <th>SLDL</th>\n",
       "      <th>SLDU</th>\n",
       "      <th>SCHOOLYEAR</th>\n",
       "      <th>geometry</th>\n",
       "    </tr>\n",
       "  </thead>\n",
       "  <tbody>\n",
       "    <tr>\n",
       "      <th>0</th>\n",
       "      <td>270000101610</td>\n",
       "      <td>2700001</td>\n",
       "      <td>MERRITT ELEMENTARY</td>\n",
       "      <td>27</td>\n",
       "      <td>8659 UNITY DRIVE</td>\n",
       "      <td>MOUNTAIN IRON</td>\n",
       "      <td>MN</td>\n",
       "      <td>55768</td>\n",
       "      <td>27</td>\n",
       "      <td>27137</td>\n",
       "      <td>St. Louis County</td>\n",
       "      <td>33</td>\n",
       "      <td>47.518553</td>\n",
       "      <td>-92.594917</td>\n",
       "      <td>20260</td>\n",
       "      <td>Duluth, MN-WI</td>\n",
       "      <td>1</td>\n",
       "      <td>228</td>\n",
       "      <td>Duluth-Grand Rapids, MN-WI</td>\n",
       "      <td>2708</td>\n",
       "      <td>2707B</td>\n",
       "      <td>27007</td>\n",
       "      <td>2023-2024</td>\n",
       "      <td>POINT (-92.59492 47.51855)</td>\n",
       "    </tr>\n",
       "    <tr>\n",
       "      <th>1</th>\n",
       "      <td>270000101613</td>\n",
       "      <td>2700001</td>\n",
       "      <td>MOUNTAIN IRON-BUHL SECONDARY</td>\n",
       "      <td>27</td>\n",
       "      <td>8659 UNITY DRIVE</td>\n",
       "      <td>MOUNTAIN IRON</td>\n",
       "      <td>MN</td>\n",
       "      <td>55768</td>\n",
       "      <td>27</td>\n",
       "      <td>27137</td>\n",
       "      <td>St. Louis County</td>\n",
       "      <td>33</td>\n",
       "      <td>47.518553</td>\n",
       "      <td>-92.594917</td>\n",
       "      <td>20260</td>\n",
       "      <td>Duluth, MN-WI</td>\n",
       "      <td>1</td>\n",
       "      <td>228</td>\n",
       "      <td>Duluth-Grand Rapids, MN-WI</td>\n",
       "      <td>2708</td>\n",
       "      <td>2707B</td>\n",
       "      <td>27007</td>\n",
       "      <td>2023-2024</td>\n",
       "      <td>POINT (-92.59492 47.51855)</td>\n",
       "    </tr>\n",
       "    <tr>\n",
       "      <th>2</th>\n",
       "      <td>270000501769</td>\n",
       "      <td>2700005</td>\n",
       "      <td>UNITED SOUTH CENTRAL ELEMENTARY</td>\n",
       "      <td>27</td>\n",
       "      <td>600 11TH ST. SW</td>\n",
       "      <td>WELLS</td>\n",
       "      <td>MN</td>\n",
       "      <td>56097</td>\n",
       "      <td>27</td>\n",
       "      <td>27043</td>\n",
       "      <td>Faribault County</td>\n",
       "      <td>43</td>\n",
       "      <td>43.733990</td>\n",
       "      <td>-93.735299</td>\n",
       "      <td>N</td>\n",
       "      <td>N</td>\n",
       "      <td>0</td>\n",
       "      <td>N</td>\n",
       "      <td>N</td>\n",
       "      <td>2701</td>\n",
       "      <td>2723A</td>\n",
       "      <td>27023</td>\n",
       "      <td>2023-2024</td>\n",
       "      <td>POINT (-93.7353 43.73399)</td>\n",
       "    </tr>\n",
       "    <tr>\n",
       "      <th>3</th>\n",
       "      <td>270000501770</td>\n",
       "      <td>2700005</td>\n",
       "      <td>UNITED SOUTH CENTRAL HIGH SCHOOL</td>\n",
       "      <td>27</td>\n",
       "      <td>600 11TH ST. SW</td>\n",
       "      <td>WELLS</td>\n",
       "      <td>MN</td>\n",
       "      <td>56097</td>\n",
       "      <td>27</td>\n",
       "      <td>27043</td>\n",
       "      <td>Faribault County</td>\n",
       "      <td>43</td>\n",
       "      <td>43.733990</td>\n",
       "      <td>-93.735299</td>\n",
       "      <td>N</td>\n",
       "      <td>N</td>\n",
       "      <td>0</td>\n",
       "      <td>N</td>\n",
       "      <td>N</td>\n",
       "      <td>2701</td>\n",
       "      <td>2723A</td>\n",
       "      <td>27023</td>\n",
       "      <td>2023-2024</td>\n",
       "      <td>POINT (-93.7353 43.73399)</td>\n",
       "    </tr>\n",
       "    <tr>\n",
       "      <th>4</th>\n",
       "      <td>270000600888</td>\n",
       "      <td>2700006</td>\n",
       "      <td>Maple River Secondary</td>\n",
       "      <td>27</td>\n",
       "      <td>801 CENTRAL AVE S</td>\n",
       "      <td>MAPLETON</td>\n",
       "      <td>MN</td>\n",
       "      <td>56065</td>\n",
       "      <td>27</td>\n",
       "      <td>27013</td>\n",
       "      <td>Blue Earth County</td>\n",
       "      <td>42</td>\n",
       "      <td>43.918240</td>\n",
       "      <td>-93.956238</td>\n",
       "      <td>31860</td>\n",
       "      <td>Mankato, MN</td>\n",
       "      <td>1</td>\n",
       "      <td>359</td>\n",
       "      <td>Mankato-New Ulm, MN</td>\n",
       "      <td>2701</td>\n",
       "      <td>2722A</td>\n",
       "      <td>27022</td>\n",
       "      <td>2023-2024</td>\n",
       "      <td>POINT (-93.95624 43.91824)</td>\n",
       "    </tr>\n",
       "  </tbody>\n",
       "</table>\n",
       "</div>"
      ],
      "text/plain": [
       "        NCESSCH    LEAID                              NAME OPSTFIPS  \\\n",
       "0  270000101610  2700001                MERRITT ELEMENTARY       27   \n",
       "1  270000101613  2700001      MOUNTAIN IRON-BUHL SECONDARY       27   \n",
       "2  270000501769  2700005   UNITED SOUTH CENTRAL ELEMENTARY       27   \n",
       "3  270000501770  2700005  UNITED SOUTH CENTRAL HIGH SCHOOL       27   \n",
       "4  270000600888  2700006             Maple River Secondary       27   \n",
       "\n",
       "              STREET           CITY STATE    ZIP STFIP   CNTY  \\\n",
       "0   8659 UNITY DRIVE  MOUNTAIN IRON    MN  55768    27  27137   \n",
       "1   8659 UNITY DRIVE  MOUNTAIN IRON    MN  55768    27  27137   \n",
       "2    600 11TH ST. SW          WELLS    MN  56097    27  27043   \n",
       "3    600 11TH ST. SW          WELLS    MN  56097    27  27043   \n",
       "4  801 CENTRAL AVE S       MAPLETON    MN  56065    27  27013   \n",
       "\n",
       "              NMCNTY LOCALE        LAT        LON   CBSA         NMCBSA  \\\n",
       "0   St. Louis County     33  47.518553 -92.594917  20260  Duluth, MN-WI   \n",
       "1   St. Louis County     33  47.518553 -92.594917  20260  Duluth, MN-WI   \n",
       "2   Faribault County     43  43.733990 -93.735299      N              N   \n",
       "3   Faribault County     43  43.733990 -93.735299      N              N   \n",
       "4  Blue Earth County     42  43.918240 -93.956238  31860    Mankato, MN   \n",
       "\n",
       "  CBSATYPE  CSA                       NMCSA    CD   SLDL   SLDU SCHOOLYEAR  \\\n",
       "0        1  228  Duluth-Grand Rapids, MN-WI  2708  2707B  27007  2023-2024   \n",
       "1        1  228  Duluth-Grand Rapids, MN-WI  2708  2707B  27007  2023-2024   \n",
       "2        0    N                           N  2701  2723A  27023  2023-2024   \n",
       "3        0    N                           N  2701  2723A  27023  2023-2024   \n",
       "4        1  359         Mankato-New Ulm, MN  2701  2722A  27022  2023-2024   \n",
       "\n",
       "                     geometry  \n",
       "0  POINT (-92.59492 47.51855)  \n",
       "1  POINT (-92.59492 47.51855)  \n",
       "2   POINT (-93.7353 43.73399)  \n",
       "3   POINT (-93.7353 43.73399)  \n",
       "4  POINT (-93.95624 43.91824)  "
      ]
     },
     "metadata": {},
     "output_type": "display_data"
    },
    {
     "name": "stdout",
     "output_type": "stream",
     "text": [
      "0       POINT (-92.59492 47.51855)\n",
      "1       POINT (-92.59492 47.51855)\n",
      "2        POINT (-93.7353 43.73399)\n",
      "3        POINT (-93.7353 43.73399)\n",
      "4       POINT (-93.95624 43.91824)\n",
      "                   ...            \n",
      "2770    POINT (-96.44197 45.30869)\n",
      "2771     POINT (-95.83518 47.0766)\n",
      "2772    POINT (-93.75305 46.17935)\n",
      "2773    POINT (-92.51323 46.71094)\n",
      "2774    POINT (-94.30739 47.36145)\n",
      "Name: geometry, Length: 2775, dtype: geometry\n",
      "Coordinate reference system: EPSG:4269\n"
     ]
    }
   ],
   "source": [
    "#exploring geodata is just like exploring any other dataframe\n",
    "print('School count:',len(schools))\n",
    "print(schools.dtypes)\n",
    "display(schools.head())\n",
    "\n",
    "#look the geometry!\n",
    "print(schools.geometry)\n",
    "\n",
    "#we can get the projection real quick too\n",
    "print('Coordinate reference system:',schools.crs)"
   ]
  },
  {
   "cell_type": "code",
   "execution_count": null,
   "metadata": {},
   "outputs": [],
   "source": [
    "#now you try looking at the other geodataframes crs"
   ]
  },
  {
   "cell_type": "markdown",
   "metadata": {},
   "source": [
    "Cam is gonna talk about projects here for a minute. They're important friends."
   ]
  },
  {
   "cell_type": "code",
   "execution_count": null,
   "metadata": {},
   "outputs": [],
   "source": [
    "#quick viz\n",
    "schools.plot()"
   ]
  },
  {
   "cell_type": "markdown",
   "metadata": {},
   "source": [
    "## Slaying with APIs\n",
    "Many ArcGIS maps have a download button that allows you to directly download map data onto your computer. But this is a super manual step in an otherwise scripted process, right? \n",
    "\n",
    "Never fear! A lot of ArcGIS maps have helpful API portals that will walk you thru querying and downloading the geojson. Let's walk through that now."
   ]
  },
  {
   "cell_type": "code",
   "execution_count": null,
   "metadata": {},
   "outputs": [],
   "source": [
    "#let's grab some data from the Minneapolis Open Data portal: \n",
    "# https://opendata.minneapolismn.gov/datasets/cityoflakes::public-311-2025/about\n",
    "potholes = gpd.read_file(\"https://services.arcgis.com/afSMGVsC7QlRK1kZ/arcgis/rest/services/Public_311_2024/FeatureServer/0/query?where=TYPENAME%20%3D%20'Pothole'&outFields=*&outSR=4326&f=json\")"
   ]
  },
  {
   "cell_type": "code",
   "execution_count": null,
   "metadata": {},
   "outputs": [],
   "source": [
    "print(len(potholes))\n",
    "display(potholes.head())\n",
    "potholes.plot()"
   ]
  },
  {
   "cell_type": "markdown",
   "metadata": {},
   "source": [
    "Now we're going to load our Census API key so we can access some Census data!\n",
    "\n",
    "The code I'm using below is just accessing the raw Census API, but there are a number of Python libraries that attempt to make this \"easier\" for you. I'm sorry I'm old and this is the way I like best so I'm inflicting it upon you."
   ]
  },
  {
   "cell_type": "code",
   "execution_count": 4,
   "metadata": {},
   "outputs": [],
   "source": [
    "#sometimes an API requires an access key\n",
    "#here's an example oh how to get Census ACS 5-yr data via the API\n",
    "#and more info on the various APIs https://www.census.gov/data/developers/data-sets/acs-5year.html\n",
    "#NOTE: different tables (detailed, subject, etc) have different geography levels available\n",
    "def get_census_data(year,var_str,rename_cols):\n",
    "    data_url = f'https://api.census.gov/data/{str(year)}/acs/acs5/subject?get={var_str}&for=tract:*&in=state:27%20county:053&key={MYKEY}'\n",
    "    census_df = pd.read_json(data_url)\n",
    "    new_header = census_df.iloc[0] #grab the first row for the header\n",
    "    census_df = census_df[1:] #take the data less the header row\n",
    "    census_df.columns = new_header #set the header row as the df header\n",
    "    census_df.rename(columns=rename_cols, inplace=True) #heres where we actually rename\n",
    "\n",
    "    #I recommend saving your API data to a file so you're not constantly hitting the API\n",
    "    #census_df.to_csv(f'../data/analyzed/{str(year)}ACS5yr-hennipen-mn-tract-data.csv',index=False)\n",
    "    \n",
    "    return census_df\n",
    "\n",
    "MYKEY = os.environ['census_api_key']\n",
    "\n",
    "rename_cols = {\n",
    "    'S0101_C01_001E':'pop',\n",
    "    'S1901_C01_001E':'households',\n",
    "    'S1901_C01_012E':'median_income',\n",
    "    }\n",
    "\n",
    "var_list = ['GEO_ID','NAME']+list(rename_cols.keys())\n",
    "var_str = ','.join(var_list)\n",
    "   \n",
    "data_2023 = get_census_data(2023,var_str,rename_cols)\n",
    "\n",
    "#convert our data columns to numeric\n",
    "data_2023['pop'] = pd.to_numeric(data_2023['pop'],errors='coerce')\n",
    "data_2023['households'] = pd.to_numeric(data_2023['households'],errors='coerce')\n",
    "data_2023['median_income'] = pd.to_numeric(data_2023['median_income'],errors='coerce')\n",
    "\n",
    "data_2023.to_csv(f'../data/analyzed/2023ACS5yr-hennipen-mn-tract-data.csv',index=False)"
   ]
  },
  {
   "cell_type": "markdown",
   "metadata": {},
   "source": [
    "If you were NOT able to get an API key, you can import the `data_2023` data using the codeblock below!"
   ]
  },
  {
   "cell_type": "code",
   "execution_count": 5,
   "metadata": {},
   "outputs": [],
   "source": [
    "data_2023 = pd.read_csv(f'../data/analyzed/2023ACS5yr-hennipen-mn-tract-data.csv')"
   ]
  },
  {
   "cell_type": "code",
   "execution_count": null,
   "metadata": {},
   "outputs": [],
   "source": [
    "print(data_2023.dtypes)"
   ]
  },
  {
   "cell_type": "markdown",
   "metadata": {},
   "source": [
    "## Spatial joins and filtering"
   ]
  },
  {
   "cell_type": "code",
   "execution_count": null,
   "metadata": {},
   "outputs": [],
   "source": [
    "#filter one dataset by another\n",
    "potholes_in_hoods = gpd.sjoin(potholes, hoods, predicate='within')\n",
    "\n",
    "#remember, gdfs need to be in the same projection for spatial joins\n",
    "potholes_4326 = potholes.to_crs(epsg=4326)\n",
    "hoods_4326 = hoods.to_crs(epsg=4326)\n",
    "\n",
    "potholes_in_hoods = gpd.sjoin(potholes_4326, hoods_4326, predicate='within')"
   ]
  },
  {
   "cell_type": "code",
   "execution_count": null,
   "metadata": {},
   "outputs": [],
   "source": [
    "print(len(potholes))\n",
    "print(len(potholes_in_hoods))\n",
    "display(potholes_in_hoods.head())\n",
    "potholes_in_hoods.plot()"
   ]
  },
  {
   "cell_type": "markdown",
   "metadata": {},
   "source": [
    "## Count points in polygon\n",
    "My fav way to do a point in polygon is to combine a spatial join and a groupby. First, the spatial join lets us connect a neighborhood name with each pothole, next, the groupby will let us count the potholes present in each neighborhood. "
   ]
  },
  {
   "cell_type": "code",
   "execution_count": null,
   "metadata": {},
   "outputs": [],
   "source": [
    "#include parameter dropna=False to keep see how many potholes are outside of a neighborhood\n",
    "potholes_per_hood = potholes_in_hoods.groupby('BDNAME',dropna=False).size().reset_index(name='potholes')\n",
    "\n",
    "#if we wanna see the top 5 we need to remember to sort_values\n",
    "potholes_per_hood.sort_values('potholes',ascending=False).head()"
   ]
  },
  {
   "cell_type": "code",
   "execution_count": null,
   "metadata": {},
   "outputs": [],
   "source": [
    "#if we feel like knowing more about the types of potholes in each hood, we can do a pivot_table instead\n",
    "potholes_by_hood_type = pd.pivot_table(potholes_in_hoods, index='BDNAME',columns='CASESTATUS',\n",
    "                                       values='CASEID',aggfunc='count',fill_value=0).reset_index()\n",
    "\n",
    "#let's reset the columns names here\n",
    "potholes_by_hood_type.rename(columns={0:'closed',1:'open'},inplace=True)\n",
    "\n",
    "#and let's add a total column\n",
    "potholes_by_hood_type['total'] = potholes_by_hood_type['closed'] + potholes_by_hood_type['open']\n",
    "\n",
    "#and display sorted by total\n",
    "potholes_by_hood_type.sort_values('total',ascending=False).head()"
   ]
  },
  {
   "cell_type": "markdown",
   "metadata": {},
   "source": [
    "## Crosswalks\n",
    "Generally, demographic data like population and median income isn't calculated for custom geographies like neighborhoods. But no matter! We can calculate that sort of information for ourselves using crosswalks.\n",
    "\n",
    "In this example, we are going to cross Census tracts with Minneapolis neighborhoods.\n",
    "\n",
    "Cam is going to take a minute and talk about why, in the wild, we might want to use block groups instead of tracts. Note that some of the Census data tables are only available at the tract level."
   ]
  },
  {
   "cell_type": "code",
   "execution_count": null,
   "metadata": {},
   "outputs": [],
   "source": [
    "#####################\n",
    "# Add census data to the tracts\n",
    "#####################\n",
    "\n",
    "#make sure we can join on the GEOID cols\n",
    "data_2023['GEOID'] = data_2023['GEO_ID'].str.replace('1400000US','')\n",
    "\n",
    "#join\n",
    "tracts_data = tracts.merge(data_2023, on='GEOID', how='left')\n",
    "print(len(tracts_data.loc[~tracts_data['pop'].isnull()]))\n",
    "\n",
    "#we need to make sure both gdfs are in the same projection, but unlike the spatial join\n",
    "#we need to make sure that projection uses meters or feet because we'll be calculating area\n",
    "#this projection is specific to the Twin Cities area: https://epsg.io/6505\n",
    "tracts_data = tracts_data.to_crs(epsg=6505)\n",
    "hoods = hoods.to_crs(epsg=6505)\n",
    "\n",
    "#and we'll need to calculate the area of the tracts before and after we do the intersection so we can\n",
    "#calculate the actual estimated count of people of different races in each tract segmemt.\n",
    "tracts_data['pre_area'] = tracts_data['geometry'].area\n",
    "\n",
    "#now let's do that intersection!\n",
    "tracts_hoods = gpd.overlay(tracts_data, hoods, how='intersection')\n",
    "\n",
    "#and calculate the area post intersection.  \n",
    "tracts_hoods['post_area'] = tracts_hoods['geometry'].area\n",
    "\n",
    "#from the pre and post area calculations we create a percentage\n",
    "tracts_hoods['pct_area'] = tracts_hoods['post_area']/tracts_hoods['pre_area']\n",
    "\n",
    "#and then we multiply our tract data counts by that percentage\n",
    "#to get estimates per segments of the tract that falls within each hood\n",
    "tracts_hoods['post_pop'] = tracts_hoods['pop'] * tracts_hoods['pct_area']\n",
    "tracts_hoods['post_households'] = tracts_hoods['households'] * tracts_hoods['pct_area']\n",
    "tracts_hoods['post_income'] = tracts_hoods['median_income'] * tracts_hoods['pct_area']\n",
    "\n",
    "#groupby the neighborhood name so we can join back to our neighborhood shapes\n",
    "hoods_data = tracts_hoods.groupby('BDNAME').agg({'post_pop':'sum',\n",
    "                                                 'post_households':'sum',\n",
    "                                                 'post_income':'mean'\n",
    "                                                 }).reset_index()"
   ]
  },
  {
   "cell_type": "code",
   "execution_count": null,
   "metadata": {},
   "outputs": [],
   "source": [
    "hoods_data.head()"
   ]
  },
  {
   "cell_type": "markdown",
   "metadata": {},
   "source": [
    "## Buffers\n",
    "Now, let's work with our schools and toxic release inventory data! I think it would be interesting to know which schools have a facility that releases toxic air or water chemicals near it. Shall we say 1 mile? If this were for an actual story, we would talk to an expert in the field to figure out the best distance to use.\n",
    "\n",
    "Cam is gonna talk about finding experts to help inform your geographic analysis."
   ]
  },
  {
   "cell_type": "code",
   "execution_count": null,
   "metadata": {},
   "outputs": [],
   "source": [
    "#first, we have to change the projection to get it into feet\n",
    "schools = schools.to_crs(epsg=6505)\n",
    "\n",
    "# Next, we draw a 1 mile buffer around each of our schools. The buffer distance depends on \n",
    "# the units of the CRS. Since our CRS is in feet, we need to convert 1 mile to feet.\n",
    "schools['buffer'] = schools.buffer(5280)"
   ]
  },
  {
   "cell_type": "code",
   "execution_count": null,
   "metadata": {},
   "outputs": [],
   "source": [
    "#if we inspect at this point, we can see we've added a new geometry column to our schools gdf\n",
    "schools.head()"
   ]
  },
  {
   "cell_type": "code",
   "execution_count": null,
   "metadata": {},
   "outputs": [],
   "source": [
    "#let's make a school_buffers dataframe separate from our schools dataframe\n",
    "school_buffers = schools.copy()\n",
    "\n",
    "#and keep only the columns we need\n",
    "keep_cols = ['NCESSCH','NAME','CITY','ZIP','NMCNTY','NMCBSA','buffer']\n",
    "school_buffers = school_buffers[keep_cols]\n",
    "\n",
    "#and set the geometry to the buffer\n",
    "school_buffers.set_geometry('buffer',inplace=True)\n",
    "\n",
    "#and we can plot it\n",
    "school_buffers.plot()"
   ]
  },
  {
   "cell_type": "code",
   "execution_count": null,
   "metadata": {},
   "outputs": [],
   "source": [
    "#we're going to group the TRI by facility because with this dataset, a single facility will have \n",
    "#many rows, one for each chemical released\n",
    "unique_tri = tri.groupby(['2. TRIFD','4. FACILITY NAME',\n",
    "                          '5. STREET ADDRESS','6. CITY',\n",
    "                          '7. COUNTY','geometry']).size().reset_index(name='chemicals_released')\n",
    "\n",
    "#when we do the groupby, it stops being a geodataframe, so we need to make it one again\n",
    "unique_tri = gpd.GeoDataFrame(unique_tri, geometry='geometry')\n",
    "\n",
    "unique_tri.head()"
   ]
  },
  {
   "cell_type": "code",
   "execution_count": null,
   "metadata": {},
   "outputs": [],
   "source": [
    "# change the crs to 4326\n",
    "school_buffers = school_buffers.to_crs(epsg=4326)\n",
    "\n",
    "# #ohhhhh dear. what in the world does this mean? Well it means that the CRS of a geodataframe we create from \n",
    "# #points_from_xy is not set. So we need to set it.\n",
    "# #So first, comment out the offending line above and then run this:\n",
    "unique_tri = unique_tri.set_crs(epsg=4326)\n",
    "\n",
    "#and now the spatial join\n",
    "tri_schools = gpd.sjoin(unique_tri, school_buffers, predicate='within')\n",
    "\n",
    "#and we can see how many facilities are within a mile of a school\n",
    "print(len(tri))\n",
    "print(len(tri_schools))\n",
    "display(tri_schools.head())"
   ]
  },
  {
   "cell_type": "markdown",
   "metadata": {},
   "source": [
    "If you're asking yourself \"why that CRS?\" it's because when you do a spatial join with points, you need to everything to be in a geometric CRS rather than a projected CRS. I don't know man, ask Cam. She's way smarter than I am.\n",
    "\n",
    "If you're further asking yourself \"Why are there some schools in there more than once!?\". It's because some schools have more than one facility within one mile of them. Le YIPE! \n",
    "\n",
    "But we know how to deal with that, right? We can groupby the school and count the facilities!"
   ]
  },
  {
   "cell_type": "code",
   "execution_count": null,
   "metadata": {},
   "outputs": [],
   "source": [
    "#groupby the school and count the facilities\n",
    "tri_per_school = tri_schools.groupby(['NAME','CITY','NMCNTY']).size().reset_index(name='tri_facilities')\n",
    "\n",
    "tri_per_school.sort_values('tri_facilities',ascending=False).head()"
   ]
  },
  {
   "cell_type": "markdown",
   "metadata": {},
   "source": [
    "## Calculating distance\n",
    "So now we know which schools are within a mile of a TRI facility... but what if I wanted to know about the school with the closest TRI facility? Or maybe calculate all of the distances between schools and their closes TRI facility?"
   ]
  },
  {
   "cell_type": "code",
   "execution_count": null,
   "metadata": {},
   "outputs": [],
   "source": [
    "# you're gonna hate me... but we need to change these damn projections back to 6505 \n",
    "# cause we need the feet!\n",
    "schools = schools.to_crs(epsg=6505)\n",
    "unique_tri = unique_tri.to_crs(epsg=6505)\n",
    "\n",
    "#geopandas as a lovely function called sjoin_nearest that will do exactly what we want\n",
    "closest_tri_school = gpd.sjoin_nearest(schools, unique_tri, max_distance=5280, distance_col='distance')"
   ]
  },
  {
   "cell_type": "code",
   "execution_count": null,
   "metadata": {},
   "outputs": [],
   "source": [
    "print(len(schools))\n",
    "print(len(tri))\n",
    "print(len(closest_tri_school))"
   ]
  },
  {
   "cell_type": "code",
   "execution_count": null,
   "metadata": {},
   "outputs": [],
   "source": [
    "closest_tri_school.head()"
   ]
  },
  {
   "cell_type": "markdown",
   "metadata": {},
   "source": [
    "## Exporting for viz"
   ]
  },
  {
   "cell_type": "markdown",
   "metadata": {},
   "source": []
  }
 ],
 "metadata": {
  "kernelspec": {
   "display_name": "env",
   "language": "python",
   "name": "python3"
  },
  "language_info": {
   "codemirror_mode": {
    "name": "ipython",
    "version": 3
   },
   "file_extension": ".py",
   "mimetype": "text/x-python",
   "name": "python",
   "nbconvert_exporter": "python",
   "pygments_lexer": "ipython3",
   "version": "3.13.0"
  }
 },
 "nbformat": 4,
 "nbformat_minor": 2
}
